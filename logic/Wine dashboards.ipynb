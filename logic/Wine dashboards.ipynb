{
 "cells": [
  {
   "cell_type": "code",
   "execution_count": 12,
   "id": "7b7d5407",
   "metadata": {},
   "outputs": [],
   "source": [
    "import pandas as pd\n",
    "\n",
    "import constants as co"
   ]
  },
  {
   "cell_type": "code",
   "execution_count": 55,
   "id": "cdd1a8a1",
   "metadata": {},
   "outputs": [],
   "source": [
    "full_data = pd.read_csv(co.data_dir / \"full_wine_info_transformed.csv\")\n",
    "pairings_df = pd.read_csv(co.data_dir / \"food_pairings.csv\")\n",
    "flavor_df = pd.read_csv(co.data_dir / \"food_flavors.csv\")\n",
    "adjedctives_df = pd.read_csv(co.data_dir / \"wine_description_words.csv\")"
   ]
  },
  {
   "cell_type": "code",
   "execution_count": 31,
   "id": "e9cd2c77",
   "metadata": {},
   "outputs": [],
   "source": [
    "assert len(full_data) == len(pairings_df) == len(flavor_df) == len(adjedctives_df)"
   ]
  },
  {
   "cell_type": "code",
   "execution_count": 36,
   "id": "a422373a",
   "metadata": {},
   "outputs": [],
   "source": [
    "# pairings_df.dropna(how='all', inplace=True)\n",
    "# flavor_df.dropna(how='all', inplace=True)\n",
    "# adjedctives_df.dropna(how='all', inplace=True)"
   ]
  },
  {
   "cell_type": "code",
   "execution_count": 47,
   "id": "d2cbe873",
   "metadata": {},
   "outputs": [
    {
     "data": {
      "text/plain": [
       "US              40544\n",
       "Italy           14850\n",
       "France          14459\n",
       "Spain            5443\n",
       "Chile            3735\n",
       "Portugal         3508\n",
       "Argentina        3447\n",
       "Australia        3152\n",
       "Austria          1959\n",
       "Other            1876\n",
       "New Zealand      1865\n",
       "Germany          1529\n",
       "South Africa     1481\n",
       "Name: country, dtype: int64"
      ]
     },
     "execution_count": 47,
     "metadata": {},
     "output_type": "execute_result"
    }
   ],
   "source": [
    "country_dict = full_data[co.country].value_counts().to_dict()\n",
    "list_of_other_countries = [k for k,v in country_dict.items() if v<1000]\n",
    "# groups countries with small number of observations (<1000) into one group named \"Other\"\n",
    "mask = full_data[co.country].isin(list_of_other_countries)\n",
    "full_data[co.country].mask(mask, 'Other', inplace=True)\n",
    "full_data[co.country].value_counts()"
   ]
  },
  {
   "cell_type": "code",
   "execution_count": 66,
   "id": "2be35444",
   "metadata": {},
   "outputs": [],
   "source": [
    "n=5000"
   ]
  },
  {
   "cell_type": "code",
   "execution_count": 67,
   "id": "d81efbc3",
   "metadata": {},
   "outputs": [
    {
     "name": "stdout",
     "output_type": "stream",
     "text": [
      "US              2367\n",
      "France          1314\n",
      "Italy            606\n",
      "Austria          161\n",
      "Spain            135\n",
      "Portugal         129\n",
      "Germany          107\n",
      "Australia        106\n",
      "Argentina         40\n",
      "South Africa      12\n",
      "Hungary            7\n",
      "Chile              6\n",
      "England            5\n",
      "New Zealand        3\n",
      "Canada             2\n",
      "Name: country, dtype: int64\n"
     ]
    }
   ],
   "source": [
    "# n highest score wines\n",
    "data_sorted_by_score = full_data.sort_values([co.points], ascending=False)\n",
    "first_n_sorted_by_score = data_sorted_by_score.iloc[:n]\n",
    "print(first_n_sorted_by_score[co.country].value_counts())\n",
    "n_best_wines_index = first_n_sorted_by_score.index"
   ]
  },
  {
   "cell_type": "code",
   "execution_count": null,
   "id": "02bd31c4",
   "metadata": {},
   "outputs": [],
   "source": []
  },
  {
   "cell_type": "code",
   "execution_count": null,
   "id": "4def982b",
   "metadata": {},
   "outputs": [],
   "source": [
    "# TODO\n",
    "# write some text\n",
    "# deal with plots\n",
    "# analysis\n",
    "    # price correlates with points?\n",
    "    # overall price analysis\n",
    "    # where is the best wine?\n",
    "    # where is the most expensive wine?\n",
    "    # what wine is cheap but has high score? what are the descrition?\n",
    "    # what wine is expensive but has low score?\n",
    "    #ANOVA\n",
    "# nlp\n",
    "    # is it possible to predict score from description?\n",
    "    # what are most common words?/per wine category?\n",
    "    # sweet-savory cart?\n",
    "    # word clouds\n",
    "    \n",
    "# a chart by country (where there are more than 1000 observations) featuring:\n",
    "#     10 most expensive wines\n",
    "#     10 cheapest wines\n",
    "#     10 higheest score wines\n",
    "#     the most popular variety\n",
    "#     cheap but high\n",
    "#     expensive but low"
   ]
  }
 ],
 "metadata": {
  "kernelspec": {
   "display_name": "data_analysis_env",
   "language": "python",
   "name": "data_analysis_env"
  },
  "language_info": {
   "codemirror_mode": {
    "name": "ipython",
    "version": 3
   },
   "file_extension": ".py",
   "mimetype": "text/x-python",
   "name": "python",
   "nbconvert_exporter": "python",
   "pygments_lexer": "ipython3",
   "version": "3.9.7"
  }
 },
 "nbformat": 4,
 "nbformat_minor": 5
}
